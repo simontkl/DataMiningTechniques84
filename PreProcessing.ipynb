{
 "cells": [
  {
   "cell_type": "code",
   "execution_count": 1,
   "metadata": {
    "collapsed": true,
    "pycharm": {
     "name": "#%%\n"
    }
   },
   "outputs": [
    {
     "data": {
      "text/plain": "        Unnamed: 0       id                     time        variable   value\n376907     2770399  AS14.30  2014-04-11 07:51:16.948  appCat.weather   8.032\n376908     2772465  AS14.30  2014-04-19 11:00:32.747  appCat.weather   3.008\n376909     2774026  AS14.30  2014-04-26 10:19:07.434  appCat.weather   7.026\n376910     2774133  AS14.30  2014-04-27 00:44:48.450  appCat.weather  23.033\n376911     2784435  AS14.32  2014-04-07 18:25:14.036  appCat.weather  22.431",
      "text/html": "<div>\n<style scoped>\n    .dataframe tbody tr th:only-of-type {\n        vertical-align: middle;\n    }\n\n    .dataframe tbody tr th {\n        vertical-align: top;\n    }\n\n    .dataframe thead th {\n        text-align: right;\n    }\n</style>\n<table border=\"1\" class=\"dataframe\">\n  <thead>\n    <tr style=\"text-align: right;\">\n      <th></th>\n      <th>Unnamed: 0</th>\n      <th>id</th>\n      <th>time</th>\n      <th>variable</th>\n      <th>value</th>\n    </tr>\n  </thead>\n  <tbody>\n    <tr>\n      <th>376907</th>\n      <td>2770399</td>\n      <td>AS14.30</td>\n      <td>2014-04-11 07:51:16.948</td>\n      <td>appCat.weather</td>\n      <td>8.032</td>\n    </tr>\n    <tr>\n      <th>376908</th>\n      <td>2772465</td>\n      <td>AS14.30</td>\n      <td>2014-04-19 11:00:32.747</td>\n      <td>appCat.weather</td>\n      <td>3.008</td>\n    </tr>\n    <tr>\n      <th>376909</th>\n      <td>2774026</td>\n      <td>AS14.30</td>\n      <td>2014-04-26 10:19:07.434</td>\n      <td>appCat.weather</td>\n      <td>7.026</td>\n    </tr>\n    <tr>\n      <th>376910</th>\n      <td>2774133</td>\n      <td>AS14.30</td>\n      <td>2014-04-27 00:44:48.450</td>\n      <td>appCat.weather</td>\n      <td>23.033</td>\n    </tr>\n    <tr>\n      <th>376911</th>\n      <td>2784435</td>\n      <td>AS14.32</td>\n      <td>2014-04-07 18:25:14.036</td>\n      <td>appCat.weather</td>\n      <td>22.431</td>\n    </tr>\n  </tbody>\n</table>\n</div>"
     },
     "execution_count": 1,
     "metadata": {},
     "output_type": "execute_result"
    }
   ],
   "source": [
    "import pandas as pd\n"
   ]
  },
  {
   "cell_type": "code",
   "execution_count": null,
   "outputs": [],
   "source": [
    "# Load dataframe\n",
    "\n",
    "dataframe = pd.read_csv(\"dataset_mood_smartphone.csv\")\n",
    "\n",
    "dataframe.tail()\n"
   ],
   "metadata": {
    "collapsed": false,
    "pycharm": {
     "name": "#%%\n"
    }
   }
  }
 ],
 "metadata": {
  "kernelspec": {
   "display_name": "Python 3",
   "language": "python",
   "name": "python3"
  },
  "language_info": {
   "codemirror_mode": {
    "name": "ipython",
    "version": 2
   },
   "file_extension": ".py",
   "mimetype": "text/x-python",
   "name": "python",
   "nbconvert_exporter": "python",
   "pygments_lexer": "ipython2",
   "version": "2.7.6"
  }
 },
 "nbformat": 4,
 "nbformat_minor": 0
}