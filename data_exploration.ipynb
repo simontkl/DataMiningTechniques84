{
 "cells": [
  {
   "cell_type": "markdown",
   "metadata": {},
   "source": [
    "## Data exploration\n",
    "I made this notebook to explore the data, the understand it and decide upon how we should preprocess it.\n",
    "I make no alterations to the data here."
   ]
  },
  {
   "cell_type": "code",
   "execution_count": 39,
   "metadata": {},
   "outputs": [],
   "source": [
    "import pandas as pd\n",
    "import numpy as np"
   ]
  },
  {
   "cell_type": "code",
   "execution_count": 40,
   "metadata": {},
   "outputs": [
    {
     "data": {
      "text/plain": [
       "(   Unnamed: 0       id                     time variable  value\n",
       " 0           1  AS14.01  2014-02-26 13:00:00.000     mood    6.0\n",
       " 1           2  AS14.01  2014-02-26 15:00:00.000     mood    6.0\n",
       " 2           3  AS14.01  2014-02-26 18:00:00.000     mood    6.0\n",
       " 3           4  AS14.01  2014-02-26 21:00:00.000     mood    7.0\n",
       " 4           5  AS14.01  2014-02-27 09:00:00.000     mood    6.0,\n",
       " (376912, 5))"
      ]
     },
     "execution_count": 40,
     "metadata": {},
     "output_type": "execute_result"
    }
   ],
   "source": [
    "df = pd.read_csv('dataset_mood_smartphone.csv')\n",
    "df.head(), df.shape"
   ]
  },
  {
   "cell_type": "code",
   "execution_count": 41,
   "metadata": {},
   "outputs": [
    {
     "name": "stdout",
     "output_type": "stream",
     "text": [
      "19\n"
     ]
    },
    {
     "data": {
      "text/plain": [
       "(array(['mood', 'circumplex.arousal', 'circumplex.valence', 'activity',\n",
       "        'screen', 'call', 'sms', 'appCat.builtin', 'appCat.communication',\n",
       "        'appCat.entertainment', 'appCat.finance', 'appCat.game',\n",
       "        'appCat.office', 'appCat.other', 'appCat.social', 'appCat.travel',\n",
       "        'appCat.unknown', 'appCat.utilities', 'appCat.weather'],\n",
       "       dtype=object),\n",
       " None)"
      ]
     },
     "execution_count": 41,
     "metadata": {},
     "output_type": "execute_result"
    }
   ],
   "source": [
    "df.variable.unique(), print(len(df.variable.unique()))"
   ]
  },
  {
   "cell_type": "markdown",
   "metadata": {},
   "source": [
    "**The variables and their descriptions**\n",
    "<br> \n",
    "mood= The mood scored by the user on a scale of 1-10\n",
    "<br> \n",
    "circumplex.arousal= The arousal scored by the user, on a scale between -2 to 2\n",
    "<br> \n",
    "circumplex.valence= The valence scored by the user, on a scale between -2 to 2 (positivity vs. negativity of general emotional feeling)\n",
    "<br>activity= Activity score of the user (number between 0 and 1)\n",
    "<br>screen= Duration of screen activity (time)\n",
    "<br>call= Call made (indicated by a 1)\n",
    "<br>sms= SMS sent (indicated by a 1)\n",
    "<br>appCat.builtin= Duration of usage of builtin apps (time)\n",
    "<br>appCat.communication= Duration of usage of communication apps (time) \n",
    "<br>appCat.entertainment= Duration of usage of entertainment apps (time)\n",
    "<br>appCat.finance= Duration of usage of finance apps (time)\n",
    "<br>appCat.game= Duration of usage of game apps (time)\n",
    "<br>ppCat.office= Duration of usage of office apps (time)\n",
    "<br>appCat.other= Duration of usage of other apps (time)\n",
    "<br>appCat.social= Duration of usage of social apps (time)\n",
    "<br>appCat.travel= Duration of usage of travel apps (time)\n",
    "<br>appCat.unknown= Duration of usage of unknown apps (time)\n",
    "<br>appCat.utilities= Duration of usage of utilities apps (time)\n",
    "<br>appCat.weather= Duration of usage of weather apps (time)"
   ]
  },
  {
   "cell_type": "code",
   "execution_count": 42,
   "metadata": {},
   "outputs": [
    {
     "data": {
      "text/html": [
       "<div>\n",
       "<style scoped>\n",
       "    .dataframe tbody tr th:only-of-type {\n",
       "        vertical-align: middle;\n",
       "    }\n",
       "\n",
       "    .dataframe tbody tr th {\n",
       "        vertical-align: top;\n",
       "    }\n",
       "\n",
       "    .dataframe thead th {\n",
       "        text-align: right;\n",
       "    }\n",
       "</style>\n",
       "<table border=\"1\" class=\"dataframe\">\n",
       "  <thead>\n",
       "    <tr style=\"text-align: right;\">\n",
       "      <th></th>\n",
       "      <th>Unnamed: 0</th>\n",
       "      <th>id</th>\n",
       "      <th>time</th>\n",
       "      <th>variable</th>\n",
       "      <th>value</th>\n",
       "    </tr>\n",
       "  </thead>\n",
       "  <tbody>\n",
       "    <tr>\n",
       "      <th>16927</th>\n",
       "      <td>16928</td>\n",
       "      <td>AS14.01</td>\n",
       "      <td>2014-03-20 22:00:00.000</td>\n",
       "      <td>activity</td>\n",
       "      <td>0.071429</td>\n",
       "    </tr>\n",
       "    <tr>\n",
       "      <th>16928</th>\n",
       "      <td>16929</td>\n",
       "      <td>AS14.01</td>\n",
       "      <td>2014-03-20 23:00:00.000</td>\n",
       "      <td>activity</td>\n",
       "      <td>0.091667</td>\n",
       "    </tr>\n",
       "    <tr>\n",
       "      <th>16929</th>\n",
       "      <td>16930</td>\n",
       "      <td>AS14.01</td>\n",
       "      <td>2014-03-21 00:00:00.000</td>\n",
       "      <td>activity</td>\n",
       "      <td>0.008333</td>\n",
       "    </tr>\n",
       "    <tr>\n",
       "      <th>16930</th>\n",
       "      <td>16931</td>\n",
       "      <td>AS14.01</td>\n",
       "      <td>2014-03-21 01:00:00.000</td>\n",
       "      <td>activity</td>\n",
       "      <td>0.000000</td>\n",
       "    </tr>\n",
       "    <tr>\n",
       "      <th>16931</th>\n",
       "      <td>16932</td>\n",
       "      <td>AS14.01</td>\n",
       "      <td>2014-03-21 02:00:00.000</td>\n",
       "      <td>activity</td>\n",
       "      <td>0.000000</td>\n",
       "    </tr>\n",
       "    <tr>\n",
       "      <th>...</th>\n",
       "      <td>...</td>\n",
       "      <td>...</td>\n",
       "      <td>...</td>\n",
       "      <td>...</td>\n",
       "      <td>...</td>\n",
       "    </tr>\n",
       "    <tr>\n",
       "      <th>39887</th>\n",
       "      <td>39888</td>\n",
       "      <td>AS14.33</td>\n",
       "      <td>2014-05-30 16:00:00.000</td>\n",
       "      <td>activity</td>\n",
       "      <td>0.250000</td>\n",
       "    </tr>\n",
       "    <tr>\n",
       "      <th>39888</th>\n",
       "      <td>39889</td>\n",
       "      <td>AS14.33</td>\n",
       "      <td>2014-05-30 19:00:00.000</td>\n",
       "      <td>activity</td>\n",
       "      <td>0.035714</td>\n",
       "    </tr>\n",
       "    <tr>\n",
       "      <th>39889</th>\n",
       "      <td>39890</td>\n",
       "      <td>AS14.33</td>\n",
       "      <td>2014-05-30 20:00:00.000</td>\n",
       "      <td>activity</td>\n",
       "      <td>0.008403</td>\n",
       "    </tr>\n",
       "    <tr>\n",
       "      <th>39890</th>\n",
       "      <td>39891</td>\n",
       "      <td>AS14.33</td>\n",
       "      <td>2014-05-30 21:00:00.000</td>\n",
       "      <td>activity</td>\n",
       "      <td>0.017094</td>\n",
       "    </tr>\n",
       "    <tr>\n",
       "      <th>39891</th>\n",
       "      <td>39892</td>\n",
       "      <td>AS14.33</td>\n",
       "      <td>2014-05-30 22:00:00.000</td>\n",
       "      <td>activity</td>\n",
       "      <td>0.375000</td>\n",
       "    </tr>\n",
       "  </tbody>\n",
       "</table>\n",
       "<p>22965 rows × 5 columns</p>\n",
       "</div>"
      ],
      "text/plain": [
       "       Unnamed: 0       id                     time  variable     value\n",
       "16927       16928  AS14.01  2014-03-20 22:00:00.000  activity  0.071429\n",
       "16928       16929  AS14.01  2014-03-20 23:00:00.000  activity  0.091667\n",
       "16929       16930  AS14.01  2014-03-21 00:00:00.000  activity  0.008333\n",
       "16930       16931  AS14.01  2014-03-21 01:00:00.000  activity  0.000000\n",
       "16931       16932  AS14.01  2014-03-21 02:00:00.000  activity  0.000000\n",
       "...           ...      ...                      ...       ...       ...\n",
       "39887       39888  AS14.33  2014-05-30 16:00:00.000  activity  0.250000\n",
       "39888       39889  AS14.33  2014-05-30 19:00:00.000  activity  0.035714\n",
       "39889       39890  AS14.33  2014-05-30 20:00:00.000  activity  0.008403\n",
       "39890       39891  AS14.33  2014-05-30 21:00:00.000  activity  0.017094\n",
       "39891       39892  AS14.33  2014-05-30 22:00:00.000  activity  0.375000\n",
       "\n",
       "[22965 rows x 5 columns]"
      ]
     },
     "execution_count": 42,
     "metadata": {},
     "output_type": "execute_result"
    }
   ],
   "source": [
    "#checking the occurence of vairables per patient per day\n",
    "df[df['variable']=='activity']"
   ]
  },
  {
   "cell_type": "code",
   "execution_count": 43,
   "metadata": {},
   "outputs": [
    {
     "name": "stdout",
     "output_type": "stream",
     "text": [
      "N patients based on unique ID's:  27\n"
     ]
    }
   ],
   "source": [
    "#Number of patients\n",
    "print(\"N patients based on unique ID's: \", len(df.id.unique()) )"
   ]
  },
  {
   "cell_type": "markdown",
   "metadata": {},
   "source": [
    "## Data Cleaning"
   ]
  },
  {
   "cell_type": "code",
   "execution_count": 44,
   "metadata": {},
   "outputs": [
    {
     "data": {
      "text/plain": [
       "Unnamed: 0      0\n",
       "id              0\n",
       "time            0\n",
       "variable        0\n",
       "value         202\n",
       "dtype: int64"
      ]
     },
     "execution_count": 44,
     "metadata": {},
     "output_type": "execute_result"
    }
   ],
   "source": [
    "#checking for missing values\n",
    "df.isnull().sum()"
   ]
  },
  {
   "cell_type": "code",
   "execution_count": 45,
   "metadata": {},
   "outputs": [],
   "source": [
    "df = df.dropna()"
   ]
  },
  {
   "cell_type": "code",
   "execution_count": 46,
   "metadata": {},
   "outputs": [
    {
     "data": {
      "text/plain": [
       "(   Unnamed: 0       id                     time variable  value\n",
       " 0           1  AS14.01  2014-02-26 13:00:00.000     mood    6.0\n",
       " 1           2  AS14.01  2014-02-26 15:00:00.000     mood    6.0\n",
       " 2           3  AS14.01  2014-02-26 18:00:00.000     mood    6.0\n",
       " 3           4  AS14.01  2014-02-26 21:00:00.000     mood    7.0\n",
       " 4           5  AS14.01  2014-02-27 09:00:00.000     mood    6.0,\n",
       " (376710, 5))"
      ]
     },
     "execution_count": 46,
     "metadata": {},
     "output_type": "execute_result"
    }
   ],
   "source": [
    "df.head(), df.shape"
   ]
  },
  {
   "cell_type": "code",
   "execution_count": 53,
   "metadata": {},
   "outputs": [
    {
     "data": {
      "text/html": [
       "<div>\n",
       "<style scoped>\n",
       "    .dataframe tbody tr th:only-of-type {\n",
       "        vertical-align: middle;\n",
       "    }\n",
       "\n",
       "    .dataframe tbody tr th {\n",
       "        vertical-align: top;\n",
       "    }\n",
       "\n",
       "    .dataframe thead th {\n",
       "        text-align: right;\n",
       "    }\n",
       "</style>\n",
       "<table border=\"1\" class=\"dataframe\">\n",
       "  <thead>\n",
       "    <tr style=\"text-align: right;\">\n",
       "      <th></th>\n",
       "      <th>Unnamed: 0</th>\n",
       "      <th>id</th>\n",
       "      <th>time</th>\n",
       "      <th>variable</th>\n",
       "      <th>value</th>\n",
       "    </tr>\n",
       "  </thead>\n",
       "  <tbody>\n",
       "    <tr>\n",
       "      <th>0</th>\n",
       "      <td>1</td>\n",
       "      <td>AS14.01</td>\n",
       "      <td>2014-02-26 13:00:00.000</td>\n",
       "      <td>mood</td>\n",
       "      <td>6.000</td>\n",
       "    </tr>\n",
       "    <tr>\n",
       "      <th>1</th>\n",
       "      <td>2</td>\n",
       "      <td>AS14.01</td>\n",
       "      <td>2014-02-26 15:00:00.000</td>\n",
       "      <td>mood</td>\n",
       "      <td>6.000</td>\n",
       "    </tr>\n",
       "    <tr>\n",
       "      <th>2</th>\n",
       "      <td>3</td>\n",
       "      <td>AS14.01</td>\n",
       "      <td>2014-02-26 18:00:00.000</td>\n",
       "      <td>mood</td>\n",
       "      <td>6.000</td>\n",
       "    </tr>\n",
       "    <tr>\n",
       "      <th>3</th>\n",
       "      <td>4</td>\n",
       "      <td>AS14.01</td>\n",
       "      <td>2014-02-26 21:00:00.000</td>\n",
       "      <td>mood</td>\n",
       "      <td>7.000</td>\n",
       "    </tr>\n",
       "    <tr>\n",
       "      <th>4</th>\n",
       "      <td>5</td>\n",
       "      <td>AS14.01</td>\n",
       "      <td>2014-02-27 09:00:00.000</td>\n",
       "      <td>mood</td>\n",
       "      <td>6.000</td>\n",
       "    </tr>\n",
       "    <tr>\n",
       "      <th>...</th>\n",
       "      <td>...</td>\n",
       "      <td>...</td>\n",
       "      <td>...</td>\n",
       "      <td>...</td>\n",
       "      <td>...</td>\n",
       "    </tr>\n",
       "    <tr>\n",
       "      <th>376907</th>\n",
       "      <td>2770399</td>\n",
       "      <td>AS14.30</td>\n",
       "      <td>2014-04-11 07:51:16.948</td>\n",
       "      <td>appCat.weather</td>\n",
       "      <td>8.032</td>\n",
       "    </tr>\n",
       "    <tr>\n",
       "      <th>376908</th>\n",
       "      <td>2772465</td>\n",
       "      <td>AS14.30</td>\n",
       "      <td>2014-04-19 11:00:32.747</td>\n",
       "      <td>appCat.weather</td>\n",
       "      <td>3.008</td>\n",
       "    </tr>\n",
       "    <tr>\n",
       "      <th>376909</th>\n",
       "      <td>2774026</td>\n",
       "      <td>AS14.30</td>\n",
       "      <td>2014-04-26 10:19:07.434</td>\n",
       "      <td>appCat.weather</td>\n",
       "      <td>7.026</td>\n",
       "    </tr>\n",
       "    <tr>\n",
       "      <th>376910</th>\n",
       "      <td>2774133</td>\n",
       "      <td>AS14.30</td>\n",
       "      <td>2014-04-27 00:44:48.450</td>\n",
       "      <td>appCat.weather</td>\n",
       "      <td>23.033</td>\n",
       "    </tr>\n",
       "    <tr>\n",
       "      <th>376911</th>\n",
       "      <td>2784435</td>\n",
       "      <td>AS14.32</td>\n",
       "      <td>2014-04-07 18:25:14.036</td>\n",
       "      <td>appCat.weather</td>\n",
       "      <td>22.431</td>\n",
       "    </tr>\n",
       "  </tbody>\n",
       "</table>\n",
       "<p>376710 rows × 5 columns</p>\n",
       "</div>"
      ],
      "text/plain": [
       "        Unnamed: 0       id                     time        variable   value\n",
       "0                1  AS14.01  2014-02-26 13:00:00.000            mood   6.000\n",
       "1                2  AS14.01  2014-02-26 15:00:00.000            mood   6.000\n",
       "2                3  AS14.01  2014-02-26 18:00:00.000            mood   6.000\n",
       "3                4  AS14.01  2014-02-26 21:00:00.000            mood   7.000\n",
       "4                5  AS14.01  2014-02-27 09:00:00.000            mood   6.000\n",
       "...            ...      ...                      ...             ...     ...\n",
       "376907     2770399  AS14.30  2014-04-11 07:51:16.948  appCat.weather   8.032\n",
       "376908     2772465  AS14.30  2014-04-19 11:00:32.747  appCat.weather   3.008\n",
       "376909     2774026  AS14.30  2014-04-26 10:19:07.434  appCat.weather   7.026\n",
       "376910     2774133  AS14.30  2014-04-27 00:44:48.450  appCat.weather  23.033\n",
       "376911     2784435  AS14.32  2014-04-07 18:25:14.036  appCat.weather  22.431\n",
       "\n",
       "[376710 rows x 5 columns]"
      ]
     },
     "execution_count": 53,
     "metadata": {},
     "output_type": "execute_result"
    }
   ],
   "source": [
    "#checking for duplicates\n",
    "df.drop_duplicates()"
   ]
  },
  {
   "cell_type": "code",
   "execution_count": 48,
   "metadata": {},
   "outputs": [
    {
     "data": {
      "text/plain": [
       "Unnamed: 0      int64\n",
       "id             object\n",
       "time           object\n",
       "variable       object\n",
       "value         float64\n",
       "dtype: object"
      ]
     },
     "metadata": {},
     "output_type": "display_data"
    }
   ],
   "source": [
    "display(df.dtypes)"
   ]
  },
  {
   "cell_type": "code",
   "execution_count": 52,
   "metadata": {},
   "outputs": [],
   "source": [
    "##Checking ranges using statistics"
   ]
  },
  {
   "cell_type": "code",
   "execution_count": 57,
   "metadata": {},
   "outputs": [
    {
     "data": {
      "text/html": [
       "<div>\n",
       "<style scoped>\n",
       "    .dataframe tbody tr th:only-of-type {\n",
       "        vertical-align: middle;\n",
       "    }\n",
       "\n",
       "    .dataframe tbody tr th {\n",
       "        vertical-align: top;\n",
       "    }\n",
       "\n",
       "    .dataframe thead th {\n",
       "        text-align: right;\n",
       "    }\n",
       "</style>\n",
       "<table border=\"1\" class=\"dataframe\">\n",
       "  <thead>\n",
       "    <tr style=\"text-align: right;\">\n",
       "      <th></th>\n",
       "      <th>Unnamed: 0</th>\n",
       "      <th>id</th>\n",
       "      <th>time</th>\n",
       "      <th>variable</th>\n",
       "      <th>value</th>\n",
       "    </tr>\n",
       "  </thead>\n",
       "  <tbody>\n",
       "    <tr>\n",
       "      <th>0</th>\n",
       "      <td>1</td>\n",
       "      <td>AS14.01</td>\n",
       "      <td>2014-02-26 13:00:00.000</td>\n",
       "      <td>mood</td>\n",
       "      <td>6.0</td>\n",
       "    </tr>\n",
       "    <tr>\n",
       "      <th>1</th>\n",
       "      <td>2</td>\n",
       "      <td>AS14.01</td>\n",
       "      <td>2014-02-26 15:00:00.000</td>\n",
       "      <td>mood</td>\n",
       "      <td>6.0</td>\n",
       "    </tr>\n",
       "    <tr>\n",
       "      <th>2</th>\n",
       "      <td>3</td>\n",
       "      <td>AS14.01</td>\n",
       "      <td>2014-02-26 18:00:00.000</td>\n",
       "      <td>mood</td>\n",
       "      <td>6.0</td>\n",
       "    </tr>\n",
       "    <tr>\n",
       "      <th>3</th>\n",
       "      <td>4</td>\n",
       "      <td>AS14.01</td>\n",
       "      <td>2014-02-26 21:00:00.000</td>\n",
       "      <td>mood</td>\n",
       "      <td>7.0</td>\n",
       "    </tr>\n",
       "    <tr>\n",
       "      <th>4</th>\n",
       "      <td>5</td>\n",
       "      <td>AS14.01</td>\n",
       "      <td>2014-02-27 09:00:00.000</td>\n",
       "      <td>mood</td>\n",
       "      <td>6.0</td>\n",
       "    </tr>\n",
       "    <tr>\n",
       "      <th>...</th>\n",
       "      <td>...</td>\n",
       "      <td>...</td>\n",
       "      <td>...</td>\n",
       "      <td>...</td>\n",
       "      <td>...</td>\n",
       "    </tr>\n",
       "    <tr>\n",
       "      <th>5636</th>\n",
       "      <td>5637</td>\n",
       "      <td>AS14.33</td>\n",
       "      <td>2014-05-30 09:00:00.000</td>\n",
       "      <td>mood</td>\n",
       "      <td>8.0</td>\n",
       "    </tr>\n",
       "    <tr>\n",
       "      <th>5637</th>\n",
       "      <td>5638</td>\n",
       "      <td>AS14.33</td>\n",
       "      <td>2014-05-30 13:00:00.000</td>\n",
       "      <td>mood</td>\n",
       "      <td>6.0</td>\n",
       "    </tr>\n",
       "    <tr>\n",
       "      <th>5638</th>\n",
       "      <td>5639</td>\n",
       "      <td>AS14.33</td>\n",
       "      <td>2014-05-30 19:00:00.000</td>\n",
       "      <td>mood</td>\n",
       "      <td>8.0</td>\n",
       "    </tr>\n",
       "    <tr>\n",
       "      <th>5639</th>\n",
       "      <td>5640</td>\n",
       "      <td>AS14.33</td>\n",
       "      <td>2014-05-30 20:00:00.000</td>\n",
       "      <td>mood</td>\n",
       "      <td>6.0</td>\n",
       "    </tr>\n",
       "    <tr>\n",
       "      <th>5640</th>\n",
       "      <td>5641</td>\n",
       "      <td>AS14.33</td>\n",
       "      <td>2014-05-31 12:00:00.000</td>\n",
       "      <td>mood</td>\n",
       "      <td>7.0</td>\n",
       "    </tr>\n",
       "  </tbody>\n",
       "</table>\n",
       "<p>5641 rows × 5 columns</p>\n",
       "</div>"
      ],
      "text/plain": [
       "      Unnamed: 0       id                     time variable  value\n",
       "0              1  AS14.01  2014-02-26 13:00:00.000     mood    6.0\n",
       "1              2  AS14.01  2014-02-26 15:00:00.000     mood    6.0\n",
       "2              3  AS14.01  2014-02-26 18:00:00.000     mood    6.0\n",
       "3              4  AS14.01  2014-02-26 21:00:00.000     mood    7.0\n",
       "4              5  AS14.01  2014-02-27 09:00:00.000     mood    6.0\n",
       "...          ...      ...                      ...      ...    ...\n",
       "5636        5637  AS14.33  2014-05-30 09:00:00.000     mood    8.0\n",
       "5637        5638  AS14.33  2014-05-30 13:00:00.000     mood    6.0\n",
       "5638        5639  AS14.33  2014-05-30 19:00:00.000     mood    8.0\n",
       "5639        5640  AS14.33  2014-05-30 20:00:00.000     mood    6.0\n",
       "5640        5641  AS14.33  2014-05-31 12:00:00.000     mood    7.0\n",
       "\n",
       "[5641 rows x 5 columns]"
      ]
     },
     "execution_count": 57,
     "metadata": {},
     "output_type": "execute_result"
    }
   ],
   "source": [
    "df_mood= df[df['variable']=='mood']\n",
    "df_mood"
   ]
  },
  {
   "cell_type": "code",
   "execution_count": 68,
   "metadata": {},
   "outputs": [
    {
     "name": "stdout",
     "output_type": "stream",
     "text": [
      "Range of 'mood':  1.0 10.0\n",
      "Range of 'circumplex.arousal':  -2.0 2.0\n",
      "Range of 'circumplex.valence':  -2.0 2.0\n",
      "Range of 'activity':  0.0 1.0\n",
      "Range of 'screen':  0.0350000858306885 9867.00699996948\n",
      "Range of 'call':  1.0 1.0\n",
      "Range of 'sms':  1.0 1.0\n",
      "Range of 'appCat.builtin':  -82798.871 33960.246\n",
      "Range of 'appCat.communication':  0.006 9830.777\n",
      "Range of 'appCat.entertainment':  -0.011000000000000001 32148.677000000003\n",
      "Range of 'appCat.finance':  0.131 355.51300000000003\n",
      "Range of 'appCat.game':  1.003 5491.793000000001\n",
      "Range of 'appCat.office':  0.003 32708.818\n",
      "Range of 'appCat.other':  0.013999999999999999 3892.038\n",
      "Range of 'appCat.social':  0.094 30000.906000000003\n",
      "Range of 'appCat.travel':  0.08 10452.615\n",
      "Range of 'appCat.unknown':  0.111 2239.937\n",
      "Range of 'appCat.utilities':  0.24600000000000002 1802.649\n",
      "Range of 'appCat.weather':  1.003 344.86300000000006\n",
      "Range of 'Mood':  1.0 10.0\n"
     ]
    }
   ],
   "source": [
    "variables =df.variable.unique()\n",
    "\n",
    "for i in variables:\n",
    "    print(\"Range of '{0}': \".format(i), np.amin(df[df['variable']==i]['value']), np.amax(df[df['variable']==i]['value']))"
   ]
  },
  {
   "cell_type": "code",
   "execution_count": 72,
   "metadata": {},
   "outputs": [
    {
     "ename": "TypeError",
     "evalue": "'float' object is not subscriptable",
     "output_type": "error",
     "traceback": [
      "\u001b[0;31m---------------------------------------------------------------------------\u001b[0m",
      "\u001b[0;31mTypeError\u001b[0m                                 Traceback (most recent call last)",
      "\u001b[0;32m<ipython-input-72-4e1bdc7e3e9b>\u001b[0m in \u001b[0;36m<module>\u001b[0;34m\u001b[0m\n\u001b[1;32m      3\u001b[0m \u001b[0mnegative_variables\u001b[0m \u001b[0;34m=\u001b[0m \u001b[0;34m[\u001b[0m\u001b[0;34m'appCat.builtin'\u001b[0m\u001b[0;34m,\u001b[0m \u001b[0;34m'appCat.entertainment'\u001b[0m\u001b[0;34m]\u001b[0m\u001b[0;34m\u001b[0m\u001b[0;34m\u001b[0m\u001b[0m\n\u001b[1;32m      4\u001b[0m \u001b[0;32mfor\u001b[0m \u001b[0mi\u001b[0m \u001b[0;32min\u001b[0m \u001b[0mnegative_variables\u001b[0m\u001b[0;34m:\u001b[0m\u001b[0;34m\u001b[0m\u001b[0;34m\u001b[0m\u001b[0m\n\u001b[0;32m----> 5\u001b[0;31m     \u001b[0mdf\u001b[0m\u001b[0;34m[\u001b[0m\u001b[0mdf\u001b[0m\u001b[0;34m[\u001b[0m\u001b[0mi\u001b[0m\u001b[0;34m]\u001b[0m \u001b[0;34m<\u001b[0m \u001b[0;36m0\u001b[0m\u001b[0;34m]\u001b[0m \u001b[0;34m=\u001b[0m \u001b[0mnp\u001b[0m\u001b[0;34m.\u001b[0m\u001b[0mnan\u001b[0m\u001b[0;34m\u001b[0m\u001b[0;34m\u001b[0m\u001b[0m\n\u001b[0m",
      "\u001b[0;31mTypeError\u001b[0m: 'float' object is not subscriptable"
     ]
    }
   ],
   "source": [
    "#replacing the negative values with NaN for the relevant variables\n",
    "##To use on the transformed dataframe! Doesnt work here\n",
    "negative_variables = ['appCat.entertainment']\n",
    "for i in negative_variables:\n",
    "    df[df[i] < 0] = np.nan\n"
   ]
  },
  {
   "cell_type": "code",
   "execution_count": null,
   "metadata": {},
   "outputs": [],
   "source": [
    "#replacing low values with 0\n",
    "## n seconds can be changed\n",
    "low_variables = ['screen','appCat.builtin', 'appCat.communication', 'appCat.entertainment', 'appCat.finance',\n",
    "                 'appCat.game', 'appCat.office', 'appCat.social' , 'appCat.travel', 'appCat.utilities' ,'appCat.weather' ]\n",
    "for i in low_variables:\n",
    "    df[df[i] < 5] = 0"
   ]
  }
 ],
 "metadata": {
  "kernelspec": {
   "display_name": "Python 3",
   "language": "python",
   "name": "python3"
  },
  "language_info": {
   "codemirror_mode": {
    "name": "ipython",
    "version": 3
   },
   "file_extension": ".py",
   "mimetype": "text/x-python",
   "name": "python",
   "nbconvert_exporter": "python",
   "pygments_lexer": "ipython3",
   "version": "3.7.7"
  }
 },
 "nbformat": 4,
 "nbformat_minor": 4
}
