{
  "cells": [
    {
      "cell_type": "code",
      "source": [
        "from tensorflow.keras.models import Sequential\n",
        "from tensorflow.keras import layers\n",
        "from tensorflow.keras.optimizers import RMSprop\n",
        "import pandas as pd\n",
        "import numpy as np\n",
        "import seaborn as sns"
      ],
      "outputs": [],
      "execution_count": null,
      "metadata": {
        "collapsed": true,
        "jupyter": {
          "source_hidden": false,
          "outputs_hidden": false
        },
        "nteract": {
          "transient": {
            "deleting": false
          }
        }
      }
    },
    {
      "cell_type": "code",
      "source": [
        "df = pd.read_csv('/Users/kasper/OneDrive/study/UvA/Master/Data mining/Assignments/Assignment 1 - advanced/dataset_mood_smartphone.csv')\n",
        "df.head()"
      ],
      "outputs": [],
      "execution_count": null,
      "metadata": {
        "collapsed": true,
        "jupyter": {
          "source_hidden": false,
          "outputs_hidden": false
        },
        "nteract": {
          "transient": {
            "deleting": false
          }
        }
      }
    },
    {
      "cell_type": "code",
      "source": [
        "df2 = df[['id','time', 'value']].copy()\n",
        "print(df2)"
      ],
      "outputs": [],
      "execution_count": null,
      "metadata": {
        "collapsed": true,
        "jupyter": {
          "source_hidden": false,
          "outputs_hidden": false
        },
        "nteract": {
          "transient": {
            "deleting": false
          }
        }
      }
    },
    {
      "cell_type": "code",
      "source": [
        "display(df2.dtypes) #check data types"
      ],
      "outputs": [],
      "execution_count": null,
      "metadata": {
        "collapsed": true,
        "jupyter": {
          "source_hidden": false,
          "outputs_hidden": false
        },
        "nteract": {
          "transient": {
            "deleting": false
          }
        }
      }
    },
    {
      "cell_type": "code",
      "source": [
        "\n",
        "df2['time'] = pd.to_datetime(df2['time'])"
      ],
      "outputs": [],
      "execution_count": null,
      "metadata": {
        "collapsed": true,
        "jupyter": {
          "source_hidden": false,
          "outputs_hidden": false
        },
        "nteract": {
          "transient": {
            "deleting": false
          }
        }
      }
    },
    {
      "cell_type": "code",
      "source": [
        "df3 = df2.set_index('time').groupby('id').resample('D').mean().reset_index()\n",
        "print(df3)"
      ],
      "outputs": [],
      "execution_count": null,
      "metadata": {
        "collapsed": true,
        "jupyter": {
          "source_hidden": false,
          "outputs_hidden": false
        },
        "nteract": {
          "transient": {
            "deleting": false
          }
        }
      }
    },
    {
      "cell_type": "code",
      "source": [
        "df4 = df[['id','variable', 'value']].copy()\n",
        "df5 = df4.groupby(['id'])\n",
        "df5.head()\n",
        "pivoted = df4.pivot(index='id', columns='variable', values='value').reset_index()\n",
        "pivoted.columns.name=None\n",
        "print(pivoted)"
      ],
      "outputs": [],
      "execution_count": null,
      "metadata": {
        "collapsed": true,
        "jupyter": {
          "source_hidden": false,
          "outputs_hidden": false
        },
        "nteract": {
          "transient": {
            "deleting": false
          }
        }
      }
    }
  ],
  "metadata": {
    "kernelspec": {
      "specFile": "/Users/kasper/Library/Jupyter/kernels/python3710jvsc74a57bd04b77df3f6c5277638bcec7c579519f8645a1e41add68de23bc7578d6629e4cc1/kernel.json",
      "interpreterPath": "/Users/kasper/opt/anaconda3/envs/dataMining_assignment1_py37/bin/python",
      "name": "python3710jvsc74a57bd04b77df3f6c5277638bcec7c579519f8645a1e41add68de23bc7578d6629e4cc1",
      "argv": [
        "/Users/kasper/opt/anaconda3/envs/dataMining_assignment1_py37/bin/python",
        "-m",
        "ipykernel_launcher",
        "-f",
        "{connection_file}"
      ],
      "language": "python",
      "path": "python",
      "display_name": "Python 3.7.10 64-bit ('dataMining_assignment1_py37': conda)",
      "metadata": {
        "interpreter": {
          "architecture": 3,
          "path": "/Users/kasper/opt/anaconda3/envs/dataMining_assignment1_py37/bin/python",
          "version": {
            "options": {
              "loose": false,
              "includePrerelease": false
            },
            "loose": false,
            "raw": "3.7.10-final",
            "major": 3,
            "minor": 7,
            "patch": 10,
            "prerelease": [
              "final"
            ],
            "build": [],
            "version": "3.7.10-final"
          },
          "sysVersion": "3.7.10 (default, Feb 26 2021, 10:16:00) \n[Clang 10.0.0 ]",
          "sysPrefix": "/Users/kasper/opt/anaconda3/envs/dataMining_assignment1_py37",
          "fileHash": "82b3393fe8746242e55f3b3abd1ed74c62751faf1d4ba86348238cf5d6f3e1213b018600ada5992a98ce1575b931a4fe00072fea649b31ab51f4ff4de6cdefc2",
          "companyDisplayName": "Anaconda, Inc.",
          "envType": "Conda",
          "envPath": "/Users/kasper/opt/anaconda3/envs/dataMining_assignment1_py37",
          "envName": "dataMining_assignment1_py37",
          "displayName": "Python 3.7.10 64-bit"
        }
      },
      "env": {
        "VSCODE_NODE_CACHED_DATA_DIR": "/Users/kasper/Library/Application Support/Code/CachedData/08a217c4d27a02a5bcde898fd7981bda5b49391b",
        "SHELL": "/bin/zsh",
        "TMPDIR": "/var/folders/25/y4tzskts1fs6jk4p3s9fxtx00000gn/T/",
        "CONDA_SHLVL": "2",
        "PYTHONUNBUFFERED": "1",
        "CONDA_PROMPT_MODIFIER": "(dataMining_assignment1_py37) ",
        "ORIGINAL_XDG_CURRENT_DESKTOP": "undefined",
        "PYTHONIOENCODING": "utf-8",
        "USER": "kasper",
        "VSCODE_VERBOSE_LOGGING": "true",
        "COMMAND_MODE": "unix2003",
        "CONDA_EXE": "/Users/kasper/opt/anaconda3/bin/conda",
        "SSH_AUTH_SOCK": "/private/tmp/com.apple.launchd.hPAUcpUpWc/Listeners",
        "VSCODE_PIPE_LOGGING": "true",
        "__CF_USER_TEXT_ENCODING": "0x1F5:0x0:0x0",
        "VSCODE_LOG_STACK": "false",
        "VSCODE_AMD_ENTRYPOINT": "vs/workbench/services/extensions/node/extensionHostProcess",
        "ELECTRON_RUN_AS_NODE": "1",
        "_CE_CONDA": "",
        "CONDA_PREFIX_1": "/Users/kasper/opt/anaconda3",
        "PATH": "/Users/kasper/opt/anaconda3/envs/dataMining_assignment1_py37/bin:/Users/kasper/opt/anaconda3/condabin:/Users/kasper/apache-maven-3.6.3/bin:/Library/Java/jdk-15.0.2.jdk/Contents/Home/bin:/Library/Frameworks/Python.framework/Versions/3.9/bin:/usr/local/bin:/usr/bin:/bin:/usr/sbin:/sbin:/Library/Apple/usr/bin",
        "CONDA_PREFIX": "/Users/kasper/opt/anaconda3/envs/dataMining_assignment1_py37",
        "__CFBundleIdentifier": "com.microsoft.VSCode",
        "PWD": "/",
        "VSCODE_HANDLES_UNCAUGHT_ERRORS": "true",
        "XPC_FLAGS": "0x0",
        "VSCODE_LOG_NATIVE": "false",
        "_CE_M": "",
        "XPC_SERVICE_NAME": "0",
        "M2_HOME": "/Users/kasper/apache-maven-3.6.3",
        "SHLVL": "1",
        "HOME": "/Users/kasper",
        "APPLICATION_INSIGHTS_NO_DIAGNOSTIC_CHANNEL": "true",
        "VSCODE_IPC_HOOK_EXTHOST": "/var/folders/25/y4tzskts1fs6jk4p3s9fxtx00000gn/T/vscode-ipc-d5cef6f1-3826-4580-8a8e-b4ea9203e382.sock",
        "VSCODE_NLS_CONFIG": "{\"locale\":\"en-us\",\"availableLanguages\":{},\"_languagePackSupport\":true}",
        "CONDA_PYTHON_EXE": "/Users/kasper/opt/anaconda3/bin/python",
        "LOGNAME": "kasper",
        "VSCODE_IPC_HOOK": "/Users/kasper/Library/Application Support/Code/1.55.1-main.sock",
        "CONDA_DEFAULT_ENV": "dataMining_assignment1_py37",
        "VSCODE_PID": "7167",
        "VSCODE_CWD": "/",
        "_": "/Users/kasper/opt/anaconda3/envs/dataMining_assignment1_py37/bin/python",
        "LC_CTYPE": "UTF-8"
      }
    }
  },
  "nbformat": 4,
  "nbformat_minor": 0
}